{
  "metadata": {
    "kernelspec": {
      "name": "python",
      "display_name": "Python (Pyodide)",
      "language": "python"
    },
    "language_info": {
      "codemirror_mode": {
        "name": "python",
        "version": 3
      },
      "file_extension": ".py",
      "mimetype": "text/x-python",
      "name": "python",
      "nbconvert_exporter": "python",
      "pygments_lexer": "ipython3",
      "version": "3.8"
    }
  },
  "nbformat_minor": 5,
  "nbformat": 4,
  "cells": [
    {
      "id": "0316ab43-dbcf-4673-a22c-bc921ca875b7",
      "cell_type": "markdown",
      "source": "# Data Science Tools and Ecosystem",
      "metadata": {}
    },
    {
      "id": "93f15691-52f1-40e6-9ae5-163bc535d7a5",
      "cell_type": "markdown",
      "source": "In this notebook, Data Science Tools and Ecosystem are summarized.",
      "metadata": {}
    },
    {
      "id": "50b90a77-e9be-427d-9698-4146679e070d",
      "cell_type": "markdown",
      "source": "**Objectives:**\n- list some popular programming languages\n- identify some commonly used libraries\n- list some data science development tools\n- perform some basic mathematical calculations",
      "metadata": {}
    },
    {
      "id": "43b3a027-fab1-4f7d-9297-8ed4f2012577",
      "cell_type": "markdown",
      "source": "Some of the popular languages that Data Scientists use are:\n1. Python\n2. R\n3. SQL",
      "metadata": {}
    },
    {
      "id": "2309d2a0-d92a-40f7-9206-f931979a47fa",
      "cell_type": "markdown",
      "source": "Some of the commonly used libraries used by Data Scientists include:\n\n1. Pandas\n2. NumPy\n3. Matplotlib \n4. Scikit-Learn",
      "metadata": {}
    },
    {
      "id": "10bb913e-7fd6-46fa-9b52-57da080f8699",
      "cell_type": "markdown",
      "source": "Some commonly used data science tools include:",
      "metadata": {}
    },
    {
      "id": "b98dada6-c6d4-4ae4-909a-5a5738c46a50",
      "cell_type": "code",
      "source": "%%html\n<style>\ntable {float:left}\n</style>",
      "metadata": {
        "trusted": true
      },
      "outputs": [
        {
          "output_type": "display_data",
          "data": {
            "text/plain": "<IPython.core.display.HTML object>",
            "text/html": "<style>\ntable {float:left}\n</style>\n"
          },
          "metadata": {}
        }
      ],
      "execution_count": 3
    },
    {
      "id": "da0a41c4-ef31-4640-9ad8-5959acbac793",
      "cell_type": "markdown",
      "source": "| Data Science Tools |\n| :----------------: |\n| Jupyter Notebooks |\n| Visual Studio Code |\n| R Studio |",
      "metadata": {}
    },
    {
      "id": "aae27629-32e8-4557-8a16-46f8c1685980",
      "cell_type": "markdown",
      "source": "### Below are a few examples of evaluating arithmetic expressions in Python.",
      "metadata": {}
    },
    {
      "id": "314ce6b0-56d2-427e-82f5-b17ff82d589d",
      "cell_type": "markdown",
      "source": "This a simple arithmetic expression to mutiply then add integers",
      "metadata": {}
    },
    {
      "id": "19427bbe-11c9-424e-9ed6-c8ba7bf51a25",
      "cell_type": "code",
      "source": "(3*4)+5",
      "metadata": {
        "trusted": true
      },
      "outputs": [
        {
          "execution_count": 4,
          "output_type": "execute_result",
          "data": {
            "text/plain": "17"
          },
          "metadata": {}
        }
      ],
      "execution_count": 4
    },
    {
      "id": "fb3f7da3-4b80-49f3-951f-5c356a48e627",
      "cell_type": "markdown",
      "source": "This will convert 200 minutes to hours by diving by 60",
      "metadata": {}
    },
    {
      "id": "779a4009-5d0d-417c-9d51-774ab8a46ccc",
      "cell_type": "code",
      "source": "200/60",
      "metadata": {
        "trusted": true
      },
      "outputs": [
        {
          "execution_count": 5,
          "output_type": "execute_result",
          "data": {
            "text/plain": "3.3333333333333335"
          },
          "metadata": {}
        }
      ],
      "execution_count": 5
    },
    {
      "id": "070af7c3-b4aa-4c62-97a1-18ad684ab887",
      "cell_type": "markdown",
      "source": "## Author:\nRandy G",
      "metadata": {}
    },
    {
      "id": "8c026c93-4dc9-4b49-b7a5-58fa5941bc74",
      "cell_type": "code",
      "source": "",
      "metadata": {
        "trusted": true
      },
      "outputs": [],
      "execution_count": null
    }
  ]
}